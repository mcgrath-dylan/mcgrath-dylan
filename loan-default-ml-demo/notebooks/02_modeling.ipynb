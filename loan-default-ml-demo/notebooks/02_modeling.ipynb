{
 "cells": [
  {
   "cell_type": "code",
   "execution_count": 1,
   "id": "619471bb-4101-4921-ac40-1a74c3006446",
   "metadata": {},
   "outputs": [
    {
     "name": "stdout",
     "output_type": "stream",
     "text": [
      "Train shape: (413135, 99)\n",
      "Test  shape: (82107, 99)\n",
      "Numeric features: 15  |  Categorical features: 3\n"
     ]
    }
   ],
   "source": [
    "# Load cleaned data + feature lists\n",
    "from pathlib import Path\n",
    "import pandas as pd\n",
    "import joblib\n",
    "\n",
    "# 1) Path to processed folder (relative to notebooks/)\n",
    "proc_dir = Path(\"..\") / \"data\" / \"processed\"\n",
    "\n",
    "# 2) Load train / test sets\n",
    "train_df = pd.read_parquet(proc_dir / \"train.parquet\")\n",
    "test_df  = pd.read_parquet(proc_dir / \"test.parquet\")\n",
    "\n",
    "# 3) Load saved feature lists (dict with 'num' and 'cat' keys)\n",
    "feat_lists = joblib.load(proc_dir / \"feature_lists.pkl\")\n",
    "num_keep, cat_keep = feat_lists[\"num\"], feat_lists[\"cat\"]\n",
    "\n",
    "# 4) Print shapes for sanity-check\n",
    "print(f\"Train shape: {train_df.shape}\")\n",
    "print(f\"Test  shape: {test_df.shape}\")\n",
    "print(f\"Numeric features: {len(num_keep)}  |  Categorical features: {len(cat_keep)}\")"
   ]
  },
  {
   "cell_type": "code",
   "execution_count": 2,
   "id": "42d2e721-a0f0-4b40-b039-ab29673ab605",
   "metadata": {},
   "outputs": [
    {
     "data": {
      "text/plain": [
       "['..\\\\models\\\\pipeline_skeleton.pkl']"
      ]
     },
     "execution_count": 2,
     "metadata": {},
     "output_type": "execute_result"
    }
   ],
   "source": [
    "from sklearn.pipeline import Pipeline\n",
    "from sklearn.compose import ColumnTransformer\n",
    "from sklearn.impute import SimpleImputer\n",
    "from sklearn.preprocessing import StandardScaler, OneHotEncoder\n",
    "from sklearn.linear_model import LogisticRegression\n",
    "\n",
    "# Numeric preprocessing: impute → scale\n",
    "num_pipe = Pipeline([\n",
    "    (\"imputer\", SimpleImputer(strategy=\"median\")),\n",
    "    (\"scaler\",  StandardScaler())\n",
    "])\n",
    "\n",
    "# Categorical preprocessing: impute → one-hot\n",
    "cat_pipe = Pipeline([\n",
    "    (\"imputer\", SimpleImputer(strategy=\"most_frequent\")),\n",
    "    (\"ohe\",     OneHotEncoder(handle_unknown=\"ignore\", sparse_output=False))\n",
    "])\n",
    "\n",
    "# Combine and add classifier\n",
    "preprocessor   = ColumnTransformer([\n",
    "    (\"num\", num_pipe, num_keep),\n",
    "    (\"cat\", cat_pipe, cat_keep)\n",
    "])\n",
    "\n",
    "model_pipeline = Pipeline([\n",
    "    (\"preprocessor\", preprocessor),\n",
    "    (\"classifier\",   LogisticRegression(max_iter=1000, random_state=42))\n",
    "])\n",
    "\n",
    "# Save the pipeline skeleton\n",
    "models_dir = Path(\"..\") / \"models\"\n",
    "models_dir.mkdir(exist_ok=True)\n",
    "joblib.dump(model_pipeline, models_dir / \"pipeline_skeleton.pkl\")"
   ]
  },
  {
   "cell_type": "markdown",
   "id": "cdedc38b-e42c-4017-94ff-25d6254e5e23",
   "metadata": {},
   "source": [
    "## 📝 Defensive Pipeline Skeleton (with Imputation)\n",
    "\n",
    "**Why keep imputers if the parquet files are already clean?**\n",
    "\n",
    "> **Robustness:** Handles NaNs that may appear in new data (dashboard users, ETL drift, reruns). \n",
    "> **Clarity:** Makes preprocessing self-contained; future readers won’t wonder “where did NaNs go?” \n",
    "\n",
    "**Pipeline Overview:**\n",
    "\n",
    "1. **Numeric features (15)**  \n",
    "    • `SimpleImputer(median)` → `StandardScaler`\n",
    "\n",
    "2. **Categorical features (3)**  \n",
    "    • `SimpleImputer(most_frequent)` → `OneHotEncoder(ignore_unknown)`\n",
    "\n",
    "3. **Classifier placeholder**  \n",
    "    • `LogisticRegression(max_iter=1000, random_state=42)`\n",
    "\n",
    "This skeleton is ready for `.fit()`, metric logging, grid search, and later swap-ins (e.g., XGBoost)."
   ]
  },
  {
   "cell_type": "code",
   "execution_count": null,
   "id": "c3857831-e254-4b42-ac96-fbe6cfe7340c",
   "metadata": {},
   "outputs": [],
   "source": []
  }
 ],
 "metadata": {
  "kernelspec": {
   "display_name": "Python 3 (ipykernel)",
   "language": "python",
   "name": "python3"
  },
  "language_info": {
   "codemirror_mode": {
    "name": "ipython",
    "version": 3
   },
   "file_extension": ".py",
   "mimetype": "text/x-python",
   "name": "python",
   "nbconvert_exporter": "python",
   "pygments_lexer": "ipython3",
   "version": "3.13.5"
  }
 },
 "nbformat": 4,
 "nbformat_minor": 5
}
