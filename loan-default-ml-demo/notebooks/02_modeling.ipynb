{
 "cells": [
  {
   "cell_type": "code",
   "execution_count": 1,
   "id": "619471bb-4101-4921-ac40-1a74c3006446",
   "metadata": {},
   "outputs": [
    {
     "name": "stdout",
     "output_type": "stream",
     "text": [
      "Train shape: (413135, 99)\n",
      "Test  shape: (82107, 99)\n"
     ]
    }
   ],
   "source": [
    "from pathlib import Path\n",
    "import pandas as pd\n",
    "\n",
    "# Path for processed data\n",
    "proc_dir = Path(\"..\") / \"data\" / \"processed\"\n",
    "\n",
    "# Read data into dataframes\n",
    "train_df = pd.read_parquet(proc_dir / \"train.parquet\")\n",
    "test_df  = pd.read_parquet(proc_dir / \"test.parquet\")\n",
    "\n",
    "print(\"Train shape:\", train_df.shape)\n",
    "print(\"Test  shape:\", test_df.shape)"
   ]
  },
  {
   "cell_type": "code",
   "execution_count": 2,
   "id": "42d2e721-a0f0-4b40-b039-ab29673ab605",
   "metadata": {},
   "outputs": [
    {
     "name": "stdout",
     "output_type": "stream",
     "text": [
      "Numeric     : ['int_rate', 'inq_last_6mths', 'inq_last_12m', 'mths_since_recent_inq', 'tot_hi_cred_lim', 'fico_range_high', 'total_bc_limit', 'tot_cur_bal', 'installment', 'total_rev_hi_lim', 'max_bal_bc']\n",
      "Categorical : ['grade', 'home_ownership', 'verification_status', 'purpose']\n",
      "Total kept  : 15\n"
     ]
    }
   ],
   "source": [
    "import joblib\n",
    "\n",
    "# Load the leak-free feature list built in 01_eda\n",
    "feat_lists   = joblib.load(proc_dir / \"feature_lists_v2.pkl\")\n",
    "num_keep     = feat_lists[\"num\"]\n",
    "cat_keep     = feat_lists[\"cat\"]\n",
    "final_feats  = num_keep + cat_keep\n",
    "\n",
    "print(\"Numeric     :\", num_keep)\n",
    "print(\"Categorical :\", cat_keep)\n",
    "print(\"Total kept  :\", len(final_feats))"
   ]
  },
  {
   "cell_type": "code",
   "execution_count": 3,
   "id": "c3857831-e254-4b42-ac96-fbe6cfe7340c",
   "metadata": {},
   "outputs": [
    {
     "data": {
      "text/plain": [
       "['..\\\\models\\\\pipeline_skeleton.pkl']"
      ]
     },
     "execution_count": 3,
     "metadata": {},
     "output_type": "execute_result"
    }
   ],
   "source": [
    "from sklearn.pipeline import Pipeline\n",
    "from sklearn.compose import ColumnTransformer\n",
    "from sklearn.impute import SimpleImputer\n",
    "from sklearn.preprocessing import StandardScaler, OneHotEncoder\n",
    "from sklearn.linear_model import LogisticRegression\n",
    "\n",
    "# Numeric branch\n",
    "num_pipe = Pipeline([\n",
    "    (\"imputer\", SimpleImputer(strategy=\"median\")),\n",
    "    (\"scaler\",  StandardScaler())\n",
    "])\n",
    "\n",
    "# Categorical branch\n",
    "cat_pipe = Pipeline([\n",
    "    (\"imputer\", SimpleImputer(strategy=\"most_frequent\")),\n",
    "    (\"ohe\",     OneHotEncoder(handle_unknown=\"ignore\", sparse_output=False))\n",
    "])\n",
    "\n",
    "# Column transformer\n",
    "preprocessor = ColumnTransformer([\n",
    "    (\"num\", num_pipe, num_keep),\n",
    "    (\"cat\", cat_pipe, cat_keep)\n",
    "])\n",
    "\n",
    "# Full pipeline\n",
    "model_pipeline = Pipeline([\n",
    "    (\"preprocessor\", preprocessor),\n",
    "    (\"classifier\",   LogisticRegression(max_iter=1000,\n",
    "                                        random_state=42,\n",
    "                                        class_weight=\"balanced\"))\n",
    "])\n",
    "\n",
    "# Save skeleton\n",
    "models_dir = Path(\"..\") / \"models\"\n",
    "models_dir.mkdir(exist_ok=True)\n",
    "joblib.dump(model_pipeline, models_dir / \"pipeline_skeleton.pkl\")"
   ]
  },
  {
   "cell_type": "markdown",
   "id": "cdedc38b-e42c-4017-94ff-25d6254e5e23",
   "metadata": {},
   "source": [
    "## 📝 Defensive Pipeline Skeleton (with Imputation)\n",
    "\n",
    "**Why keep imputers if the parquet files are already clean?**\n",
    "\n",
    "> **Robustness:** Handles NaNs that may appear in new data (dashboard users, ETL drift, reruns). \n",
    "> **Clarity:** Makes preprocessing self-contained; future readers won’t wonder “where did NaNs go?” \n",
    "\n",
    "**Pipeline Overview:**\n",
    "\n",
    "1. **Numeric features**  \n",
    "    • Median impute → StandardScaler\n",
    "\n",
    "2. **Categorical features**  \n",
    "    • Most-frequent impute → OneHotEncoder (`ignore` unknown)\n",
    "\n",
    "3. **Classifier**  \n",
    "    • `LogisticRegression`<br>• `class_weight=\"balanced\"` adjusts for 0.05 % defaults<br>• `max_iter=1000`, `random_state=42` \n",
    "\n",
    "This skeleton is ready for `.fit()`, metric logging, grid search, and later swap-ins (e.g., XGBoost)."
   ]
  },
  {
   "cell_type": "code",
   "execution_count": 4,
   "id": "9abe941d-b69c-440a-b51e-bc0efa871e13",
   "metadata": {},
   "outputs": [
    {
     "name": "stdout",
     "output_type": "stream",
     "text": [
      "{'roc_auc': 0.5771161072123664, 'recall': 0.4864864864864865, 'accuracy': 0.6745100904916755}\n"
     ]
    }
   ],
   "source": [
    "from sklearn.metrics import roc_auc_score, recall_score, accuracy_score\n",
    "\n",
    "target_col = \"target_default\"\n",
    "\n",
    "X_train, y_train = train_df[final_feats], train_df[target_col]\n",
    "X_test,  y_test  = test_df[final_feats],  test_df[target_col]\n",
    "\n",
    "model_pipeline.fit(X_train, y_train)\n",
    "\n",
    "y_pred  = model_pipeline.predict(X_test)\n",
    "y_proba = model_pipeline.predict_proba(X_test)[:, 1]\n",
    "\n",
    "metrics = {\n",
    "    \"roc_auc\":  roc_auc_score(y_test, y_proba),\n",
    "    \"recall\":   recall_score(y_test, y_pred),\n",
    "    \"accuracy\": accuracy_score(y_test, y_pred)\n",
    "}\n",
    "print(metrics)"
   ]
  },
  {
   "cell_type": "markdown",
   "id": "06e753e3-3eb1-4d51-9e1e-9fcb7c13b548",
   "metadata": {},
   "source": [
    "## 📝 Baseline Metrics Review\n",
    "\n",
    "| Metric | Value |\n",
    "|--------|-------|\n",
    "| ROC-AUC | `0.577` |\n",
    "| Recall  | `0.486` |\n",
    "| Accuracy | `0.675` |\n",
    "\n",
    "With only origination-time features and balanced class weights, the model captures ~50 % of charge-offs. This is a sensible starting point given the extreme imbalance (0.05 % positives)."
   ]
  },
  {
   "cell_type": "code",
   "execution_count": 5,
   "id": "5253a955-d147-476f-b5aa-62b336e1eedb",
   "metadata": {},
   "outputs": [
    {
     "data": {
      "image/png": "[encoded data removed]",
      "text/plain": [
       "<Figure size 640x480 with 2 Axes>"
      ]
     },
     "metadata": {},
     "output_type": "display_data"
    },
    {
     "data": {
      "image/png": "[encoded data removed]",
      "text/plain": [
       "<Figure size 640x480 with 1 Axes>"
      ]
     },
     "metadata": {},
     "output_type": "display_data"
    }
   ],
   "source": [
    "from sklearn.metrics import ConfusionMatrixDisplay, RocCurveDisplay\n",
    "import matplotlib.pyplot as plt\n",
    "\n",
    "# Confusion matrix at default 0.50 threshold\n",
    "ConfusionMatrixDisplay.from_predictions(\n",
    "    y_test, y_pred, values_format=\"d\"\n",
    ")\n",
    "plt.title(\"Confusion Matrix (threshold = 0.50)\")\n",
    "plt.show()\n",
    "\n",
    "# ROC curve\n",
    "RocCurveDisplay.from_predictions(y_test, y_proba)\n",
    "plt.title(\"ROC Curve – Logistic Regression (balanced, leak-free)\")\n",
    "plt.show()"
   ]
  },
  {
   "cell_type": "markdown",
   "id": "18899025-6f90-43bd-a7ef-42567c7495cf",
   "metadata": {},
   "source": [
    "## 📝 Confusion Matrix & ROC Curve\n",
    "\n",
    "| Plot | What it tells us | Key take-aways |\n",
    "|------|------------------|----------------|\n",
    "| **Confusion Matrix** (threshold 0.50) | How many loans each class is predicted correctly / incorrectly. | *TP = 18, FN = 19 ⇒ Recall ≈ 0.49*<br>*FP = 26 706 ⇒ Precision is extremely low*. A lower threshold or different model will be needed for useful precision. |\n",
    "| **ROC Curve** | Performance across all thresholds (TPR vs FPR). | Shows a stair-step progression due to low positive count, but remains consistent and free of leakage artifacts. AUC of 0.58 confirms weak but present predictive signal. |\n",
    "\n",
    "**Model context**  \n",
    "* Logistic Regression with `class_weight=\"balanced\"`  \n",
    "* 15 leak-free features (11 numeric + 4 categorical) from `feature_lists_v2.pkl`.\n",
    "\n",
    "These plots confirm the baseline is trustworthy but leave obvious room for improvement via threshold tuning or a stronger model."
   ]
  },
  {
   "cell_type": "code",
   "execution_count": 6,
   "id": "822a1724-1301-4125-b20d-5012610ad304",
   "metadata": {},
   "outputs": [
    {
     "data": {
      "image/png": "[encoded data removed]",
      "text/plain": [
       "<Figure size 640x480 with 1 Axes>"
      ]
     },
     "metadata": {},
     "output_type": "display_data"
    },
    {
     "name": "stdout",
     "output_type": "stream",
     "text": [
      "Conventional thresholds\n"
     ]
    },
    {
     "data": {
      "text/html": [
       "<div>\n",
       "<style scoped>\n",
       "    .dataframe tbody tr th:only-of-type {\n",
       "        vertical-align: middle;\n",
       "    }\n",
       "\n",
       "    .dataframe tbody tr th {\n",
       "        vertical-align: top;\n",
       "    }\n",
       "\n",
       "    .dataframe thead th {\n",
       "        text-align: right;\n",
       "    }\n",
       "</style>\n",
       "<table border=\"1\" class=\"dataframe\">\n",
       "  <thead>\n",
       "    <tr style=\"text-align: right;\">\n",
       "      <th></th>\n",
       "      <th>threshold</th>\n",
       "      <th>precision</th>\n",
       "      <th>recall</th>\n",
       "      <th>f1</th>\n",
       "    </tr>\n",
       "  </thead>\n",
       "  <tbody>\n",
       "    <tr>\n",
       "      <th>0</th>\n",
       "      <td>0.3</td>\n",
       "      <td>0.000498</td>\n",
       "      <td>0.729730</td>\n",
       "      <td>0.000996</td>\n",
       "    </tr>\n",
       "    <tr>\n",
       "      <th>1</th>\n",
       "      <td>0.5</td>\n",
       "      <td>0.000674</td>\n",
       "      <td>0.486486</td>\n",
       "      <td>0.001345</td>\n",
       "    </tr>\n",
       "    <tr>\n",
       "      <th>2</th>\n",
       "      <td>0.7</td>\n",
       "      <td>0.000508</td>\n",
       "      <td>0.081081</td>\n",
       "      <td>0.001010</td>\n",
       "    </tr>\n",
       "  </tbody>\n",
       "</table>\n",
       "</div>"
      ],
      "text/plain": [
       "   threshold  precision    recall        f1\n",
       "0        0.3   0.000498  0.729730  0.000996\n",
       "1        0.5   0.000674  0.486486  0.001345\n",
       "2        0.7   0.000508  0.081081  0.001010"
      ]
     },
     "metadata": {},
     "output_type": "display_data"
    },
    {
     "name": "stdout",
     "output_type": "stream",
     "text": [
      "Very low thresholds\n"
     ]
    },
    {
     "data": {
      "text/html": [
       "<div>\n",
       "<style scoped>\n",
       "    .dataframe tbody tr th:only-of-type {\n",
       "        vertical-align: middle;\n",
       "    }\n",
       "\n",
       "    .dataframe tbody tr th {\n",
       "        vertical-align: top;\n",
       "    }\n",
       "\n",
       "    .dataframe thead th {\n",
       "        text-align: right;\n",
       "    }\n",
       "</style>\n",
       "<table border=\"1\" class=\"dataframe\">\n",
       "  <thead>\n",
       "    <tr style=\"text-align: right;\">\n",
       "      <th></th>\n",
       "      <th>threshold</th>\n",
       "      <th>precision</th>\n",
       "      <th>recall</th>\n",
       "      <th>f1</th>\n",
       "    </tr>\n",
       "  </thead>\n",
       "  <tbody>\n",
       "    <tr>\n",
       "      <th>0</th>\n",
       "      <td>0.005</td>\n",
       "      <td>0.000451</td>\n",
       "      <td>1.0</td>\n",
       "      <td>0.000901</td>\n",
       "    </tr>\n",
       "    <tr>\n",
       "      <th>1</th>\n",
       "      <td>0.010</td>\n",
       "      <td>0.000451</td>\n",
       "      <td>1.0</td>\n",
       "      <td>0.000901</td>\n",
       "    </tr>\n",
       "    <tr>\n",
       "      <th>2</th>\n",
       "      <td>0.020</td>\n",
       "      <td>0.000451</td>\n",
       "      <td>1.0</td>\n",
       "      <td>0.000901</td>\n",
       "    </tr>\n",
       "    <tr>\n",
       "      <th>3</th>\n",
       "      <td>0.050</td>\n",
       "      <td>0.000451</td>\n",
       "      <td>1.0</td>\n",
       "      <td>0.000901</td>\n",
       "    </tr>\n",
       "    <tr>\n",
       "      <th>4</th>\n",
       "      <td>0.100</td>\n",
       "      <td>0.000455</td>\n",
       "      <td>1.0</td>\n",
       "      <td>0.000910</td>\n",
       "    </tr>\n",
       "  </tbody>\n",
       "</table>\n",
       "</div>"
      ],
      "text/plain": [
       "   threshold  precision  recall        f1\n",
       "0      0.005   0.000451     1.0  0.000901\n",
       "1      0.010   0.000451     1.0  0.000901\n",
       "2      0.020   0.000451     1.0  0.000901\n",
       "3      0.050   0.000451     1.0  0.000901\n",
       "4      0.100   0.000455     1.0  0.000910"
      ]
     },
     "metadata": {},
     "output_type": "display_data"
    }
   ],
   "source": [
    "from sklearn.metrics import (\n",
    "    precision_recall_curve, precision_score, recall_score, f1_score\n",
    ")\n",
    "import numpy as np, pandas as pd, matplotlib.pyplot as plt\n",
    "\n",
    "# Full PR curve\n",
    "prec, rec, thr = precision_recall_curve(y_test, y_proba)\n",
    "plt.plot(rec, prec); plt.xlabel(\"Recall\"); plt.ylabel(\"Precision\")\n",
    "plt.title(\"Precision–Recall Curve (LogReg baseline)\"); plt.grid(True); plt.show()\n",
    "\n",
    "# A. Conventional thresholds 0.30–0.70 results table\n",
    "conv_thresh = [0.30, 0.50, 0.70]\n",
    "rows = []\n",
    "for t in conv_thresh:\n",
    "    y_pred = (y_proba >= t).astype(int)\n",
    "    rows.append({\n",
    "        \"threshold\": t,\n",
    "        \"precision\": precision_score(y_test, y_pred, zero_division=0),\n",
    "        \"recall\":    recall_score(y_test, y_pred, zero_division=0),\n",
    "        \"f1\":        f1_score(y_test, y_pred, zero_division=0)\n",
    "    })\n",
    "print(\"Conventional thresholds\")\n",
    "display(pd.DataFrame(rows))\n",
    "\n",
    "# B. Very low thresholds 0.005–0.10 results table\n",
    "low_thresh = [0.005, 0.01, 0.02, 0.05, 0.10]\n",
    "rows = []\n",
    "for t in low_thresh:\n",
    "    y_pred = (y_proba >= t).astype(int)\n",
    "    rows.append({\n",
    "        \"threshold\": t,\n",
    "        \"precision\": precision_score(y_test, y_pred, zero_division=0),\n",
    "        \"recall\":    recall_score(y_test, y_pred, zero_division=0),\n",
    "        \"f1\":        f1_score(y_test, y_pred, zero_division=0)\n",
    "    })\n",
    "print(\"Very low thresholds\")\n",
    "display(pd.DataFrame(rows))"
   ]
  },
  {
   "cell_type": "markdown",
   "id": "a4505387-933e-4f3e-9124-25df3fc71ec8",
   "metadata": {},
   "source": [
    "## 📝 Threshold-Tuning Findings\n",
    "\n",
    "| Threshold set | Precision range | Recall range | Key observation |\n",
    "|---------------|-----------------|--------------|-----------------|\n",
    "| **Conventional (0.30 – 0.70)** | 0.00050 – 0.00067 | 0.08 – 0.73 | Even at mid-range cut-offs, precision is < 0.07 % while recall varies significantly. |\n",
    "| **Very low (0.005 – 0.10)** | ≈ 0.00045 (0.045 %) | 1.00 | Model flags almost every loan as default. Recall perfect, precision unusable. |\n",
    "\n",
    "*F1 never exceeds 0.0013 across all tested thresholds.*\n",
    "\n",
    "**Conclusion:** Logistic Regression cannot deliver a workable precision-recall balance based on our 15 features. A switch to a stronger, non-linear model (XGBoost / Gradient Boosting) to achieve better separation of risky loans is required."
   ]
  }
 ],
 "metadata": {
  "kernelspec": {
   "display_name": "Python 3 (ipykernel)",
   "language": "python",
   "name": "python3"
  },
  "language_info": {
   "codemirror_mode": {
    "name": "ipython",
    "version": 3
   },
   "file_extension": ".py",
   "mimetype": "text/x-python",
   "name": "python",
   "nbconvert_exporter": "python",
   "pygments_lexer": "ipython3",
   "version": "3.13.5"
  }
 },
 "nbformat": 4,
 "nbformat_minor": 5
}
