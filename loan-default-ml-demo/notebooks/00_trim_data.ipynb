{
 "cells": [
  {
   "cell_type": "code",
   "execution_count": 1,
   "id": "38c3a50c-f394-48d0-b188-658dea9aa7ab",
   "metadata": {},
   "outputs": [
    {
     "name": "stdout",
     "output_type": "stream",
     "text": [
      "✅ Trimmed shape: (495242, 151)\n"
     ]
    }
   ],
   "source": [
    "import pandas as pd\n",
    "\n",
    "# Load full dataset (may take ~30 sec)\n",
    "df = pd.read_csv(\"../data/raw/accepted_2007_to_2018Q4.csv\", low_memory=False)\n",
    "\n",
    "# Filter to only 2018 issues\n",
    "df_2018 = df[df['issue_d'].str.contains(\"2018\", na=False)]\n",
    "\n",
    "# Check shape and save trimmed version\n",
    "print(\"✅ Trimmed shape:\", df_2018.shape)\n",
    "df_2018.to_csv(\"../data/raw/accepted_2018.csv\", index=False)"
   ]
  },
  {
   "cell_type": "code",
   "execution_count": null,
   "id": "43738050-5847-4798-b069-7550b19e7fb6",
   "metadata": {},
   "outputs": [],
   "source": []
  }
 ],
 "metadata": {
  "kernelspec": {
   "display_name": "Python 3 (ipykernel)",
   "language": "python",
   "name": "python3"
  },
  "language_info": {
   "codemirror_mode": {
    "name": "ipython",
    "version": 3
   },
   "file_extension": ".py",
   "mimetype": "text/x-python",
   "name": "python",
   "nbconvert_exporter": "python",
   "pygments_lexer": "ipython3",
   "version": "3.13.5"
  }
 },
 "nbformat": 4,
 "nbformat_minor": 5
}
