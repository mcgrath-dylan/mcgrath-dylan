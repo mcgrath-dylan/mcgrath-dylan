{
 "cells": [
  {
   "cell_type": "code",
   "execution_count": 1,
   "id": "e4efd30c-a6a0-4df8-ab2d-945fd839e319",
   "metadata": {},
   "outputs": [
    {
     "name": "stdout",
     "output_type": "stream",
     "text": [
      "Shape: (495242, 151)\n",
      "loan_status\n",
      "Current               427181\n",
      "Fully Paid             47444\n",
      "Charged Off             8867\n",
      "Late (31-120 days)      7221\n",
      "In Grace Period         2919\n",
      "Late (16-30 days)       1603\n",
      "Default                    7\n",
      "Name: count, dtype: int64\n",
      "<class 'pandas.core.frame.DataFrame'>\n",
      "Index: 495242 entries, 421097 to 1611876\n",
      "Columns: 151 entries, id to settlement_term\n",
      "dtypes: category(37), float64(113), object(1)\n",
      "memory usage: 502.6+ MB\n"
     ]
    }
   ],
   "source": [
    "import pandas as pd\n",
    "df = pd.read_parquet(\"../data/raw/accepted_2018.parquet\")\n",
    "print(\"Shape:\", df.shape)\n",
    "print(df[\"loan_status\"].value_counts(dropna=False))\n",
    "df.info()"
   ]
  },
  {
   "cell_type": "code",
   "execution_count": null,
   "id": "6bdb35f9-b9e5-43de-a338-f0bc6190fccf",
   "metadata": {},
   "outputs": [],
   "source": []
  }
 ],
 "metadata": {
  "kernelspec": {
   "display_name": "Python 3 (ipykernel)",
   "language": "python",
   "name": "python3"
  },
  "language_info": {
   "codemirror_mode": {
    "name": "ipython",
    "version": 3
   },
   "file_extension": ".py",
   "mimetype": "text/x-python",
   "name": "python",
   "nbconvert_exporter": "python",
   "pygments_lexer": "ipython3",
   "version": "3.13.5"
  }
 },
 "nbformat": 4,
 "nbformat_minor": 5
}
